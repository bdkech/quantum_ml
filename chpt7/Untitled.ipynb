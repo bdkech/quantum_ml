{
 "cells": [
  {
   "cell_type": "markdown",
   "id": "82e8ea36-783a-434c-9a72-29a17ee18e7f",
   "metadata": {},
   "source": [
    "## Data Setup\n",
    "---\n"
   ]
  },
  {
   "cell_type": "code",
   "execution_count": 35,
   "id": "643ab5c8-656a-4878-89bc-9861293c57d9",
   "metadata": {},
   "outputs": [],
   "source": [
    "token = 'ea16075f94a8cd20ef4f8cac731b744d928b006a709fcc6322b83a20c26cfc5cfd0316ca9ad25cf65e663af971937ce7cd490dd7bd7ca50e88272206afa61f62'\n"
   ]
  },
  {
   "cell_type": "code",
   "execution_count": 6,
   "id": "38a92030-1971-48d8-a4a1-3416f3043d02",
   "metadata": {},
   "outputs": [
    {
     "data": {
      "text/plain": [
       "0.38"
      ]
     },
     "execution_count": 6,
     "metadata": {},
     "output_type": "execute_result"
    }
   ],
   "source": [
    "import pandas\n",
    "\n",
    "train = pandas.read_csv('../data/train.csv')\n",
    "\n",
    "cnt_all = len(train)\n",
    "\n",
    "survivors = train[train.Survived.eq(1)]\n",
    "cnt_survivors = len(survivors)\n",
    "\n",
    "prob_survivors = len(survivors) / cnt_all\n",
    "\n",
    "round(prob_survivors, 2)"
   ]
  },
  {
   "cell_type": "code",
   "execution_count": 18,
   "id": "cdd89be0-109a-4721-8f0c-1dc4a880d7f4",
   "metadata": {},
   "outputs": [],
   "source": [
    "def get_modifier_pclass(pclass):\n",
    "    cnt_surv_pclass = len(survivors[survivors.Pclass.eq(pclass)])\n",
    "\n",
    "    p_cl_surv = cnt_surv_pclass / cnt_survivors\n",
    "\n",
    "    p_cl = len(train[train.Pclass.eq(pclass)]) / cnt_all\n",
    "\n",
    "    return p_cl_surv / p_cl"
   ]
  },
  {
   "cell_type": "code",
   "execution_count": 32,
   "id": "af1e559e-7eb1-4c9c-8df2-2e92c836c2f4",
   "metadata": {},
   "outputs": [],
   "source": [
    "def get_modifier_sex(sex):\n",
    "    cnt_surv_sex = len(survivors[survivors.Sex.eq(sex)])\n",
    "\n",
    "    p_sex_surv = cnt_surv_sex / cnt_survivors\n",
    "\n",
    "    p_sex = len(train[train.Sex.eq(sex)]) / cnt_all\n",
    "\n",
    "    return p_sex_surv / p_sex"
   ]
  },
  {
   "cell_type": "code",
   "execution_count": 21,
   "id": "c8dd4065-a11a-4df5-a794-19568144897a",
   "metadata": {},
   "outputs": [],
   "source": [
    "def pre_process(passenger):\n",
    "    return [\n",
    "        get_modifier_pclass(passenger[\"Pclass\"]),\n",
    "        get_modifier_sex(passenger[\"Sex\"]),\n",
    "    ]\n"
   ]
  },
  {
   "cell_type": "code",
   "execution_count": 33,
   "id": "e9661696-d3ae-498a-b196-1526b34e7cfc",
   "metadata": {},
   "outputs": [
    {
     "name": "stdout",
     "output_type": "stream",
     "text": [
      "[1.6403508771929822, 1.9332048273550118]\n"
     ]
    }
   ],
   "source": [
    "print(pre_process(train.iloc[52]))"
   ]
  },
  {
   "cell_type": "code",
   "execution_count": 34,
   "id": "a0512efe-d834-43e9-90b2-3018a43e628b",
   "metadata": {},
   "outputs": [
    {
     "name": "stdout",
     "output_type": "stream",
     "text": [
      "[0.6314181584306999, 0.49215543190732464]\n"
     ]
    }
   ],
   "source": [
    "print(pre_process(train.iloc[26]))"
   ]
  },
  {
   "cell_type": "markdown",
   "id": "58de506d-a1d9-4164-904a-98efa8912208",
   "metadata": {},
   "source": [
    "## Quantum Code\n",
    "---\n"
   ]
  },
  {
   "cell_type": "code",
   "execution_count": 38,
   "id": "d157336c-aca0-4372-a762-f94ce3525c9b",
   "metadata": {},
   "outputs": [],
   "source": [
    "from functools import reduce\n",
    "from qiskit import QuantumCircuit, ClassicalRegister, QuantumRegister\n",
    "from math import asin, sqrt, ceil\n",
    "from qiskit.visualization import plot_histogram\n",
    "import matplotlib.pyplot as plt"
   ]
  },
  {
   "cell_type": "code",
   "execution_count": 41,
   "id": "15dc9f13-3dd8-42fa-9c4e-8ad8f3788a5c",
   "metadata": {},
   "outputs": [],
   "source": [
    "def prob_to_angle(prob):\n",
    "    \"\"\"\n",
    "    Converts given P(psi) value into an equivalent theta value.\n",
    "    \"\"\"\n",
    "\n",
    "    return 2 * asin(sqrt(prob))\n",
    "\n",
    "def pqc(backend, prior, modifiers, shots=1, hist=False, measure=False):\n",
    "\n",
    "    qr = QuantumRegister(7)\n",
    "    cr = ClassicalRegister(1)\n",
    "    qc = QuantumCircuit(qr, cr) if measure else QuantumCircuit(qr)\n",
    "\n",
    "    trunks = 3\n",
    "    aux = trunks + 1\n",
    "    aux_half = trunks + 1\n",
    "    aux_full = trunks + 2\n",
    "    target = trunks + 3\n",
    "\n",
    "    qc.ry(prob_to_angle(prior), target)\n",
    "\n",
    "    qc.x(target)\n",
    "\n",
    "    qc.cry(prob_to_angle(prior / (1 - prior)), target, aux_full)\n",
    "\n",
    "    qc.cx(aux_full, target)\n",
    "\n",
    "    qc.cry(prob_to_angle(0.5 * prior / (1 - (2 * prior))), target, aux_half)\n",
    "\n",
    "    qc.x(target)\n",
    "    qc.cx(aux_full, target)\n",
    "\n",
    "    sorted_modifiers = sorted(modifiers)\n",
    "\n",
    "    for step in range(0, len(modifiers)):\n",
    "        if sorted_modifiers[step] > 1:\n",
    "            qc.cry(prob_to_angle(min(1, sorted_modifiers[step] - 1)), aux_full, target)\n",
    "\n",
    "            qc.ccx(target, aux_full, 0)\n",
    "            qc.ccx(target, 0, aux_full)\n",
    "\n",
    "            if step == 0:\n",
    "                qc.cry(prob_to_angle(min(1, (sorted_modifiers[step] - 1) * 2 * 2)), aux_half, aux_full)\n",
    "        else:\n",
    "            qc.cry(prob_to_angle(1 - sorted_modifiers[step]), target, step * 2)\n",
    "            qc.cx(step * 2, target)\n",
    "\n",
    "    if measure:\n",
    "        qc.measure(qr[0], cr[0])\n",
    "        \n",
    "\n",
    "    results = execute(qc, backend, shots=shots).result().get_counts()\n",
    "    return plot_histogram(results, figsize=(12, 4)) if hist else results\n",
    "    "
   ]
  },
  {
   "cell_type": "code",
   "execution_count": 43,
   "id": "841da796-a154-464a-8ee3-8ab7fc9b666c",
   "metadata": {},
   "outputs": [],
   "source": [
    "def post_process(counts):\n",
    "    return int(list(map(lambda item: item[0],\n",
    "                        counts.items()))[0])\n",
    "    "
   ]
  },
  {
   "cell_type": "code",
   "execution_count": null,
   "id": "f8fdd15f-1d01-401b-bae0-d626305677b7",
   "metadata": {},
   "outputs": [],
   "source": [
    "def run(f_classify, data):\n",
    "    return [f_classify(data.iloc[i]) for i in range(0, len(data))]\n"
   ]
  }
 ],
 "metadata": {
  "kernelspec": {
   "display_name": "Python 3 (ipykernel)",
   "language": "python",
   "name": "python3"
  },
  "language_info": {
   "codemirror_mode": {
    "name": "ipython",
    "version": 3
   },
   "file_extension": ".py",
   "mimetype": "text/x-python",
   "name": "python",
   "nbconvert_exporter": "python",
   "pygments_lexer": "ipython3",
   "version": "3.8.19"
  }
 },
 "nbformat": 4,
 "nbformat_minor": 5
}
