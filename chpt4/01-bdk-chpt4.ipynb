{
 "cells": [
  {
   "cell_type": "code",
   "execution_count": 2,
   "id": "b7b8aedf-37cb-420e-a0e3-31c96a13b59c",
   "metadata": {},
   "outputs": [],
   "source": [
    "import pandas"
   ]
  },
  {
   "cell_type": "code",
   "execution_count": 3,
   "id": "24a9a29c-c9b5-4aa6-afa3-b2586c02d56d",
   "metadata": {},
   "outputs": [],
   "source": [
    "train = pandas.read_csv(\"../data/train.csv\")"
   ]
  },
  {
   "cell_type": "markdown",
   "id": "495d5398-7851-49d4-b752-08aa17ba029b",
   "metadata": {},
   "source": [
    "How likely a passenger was to survive"
   ]
  },
  {
   "cell_type": "code",
   "execution_count": 4,
   "id": "816dd9af-691d-4503-a188-1f252d183618",
   "metadata": {},
   "outputs": [
    {
     "name": "stdout",
     "output_type": "stream",
     "text": [
      "P(survival) is 0.3838383838383838\n"
     ]
    }
   ],
   "source": [
    "survivors = train[train.Survived.eq(1)]\n",
    "prob_survival = len(survivors) / len(train)\n",
    "print(f'P(survival) is {prob_survival}')"
   ]
  },
  {
   "cell_type": "markdown",
   "id": "248c49e8-9205-4626-a0f2-4968d45d6c6f",
   "metadata": {},
   "source": [
    "How likely a second-class passenger survives"
   ]
  },
  {
   "cell_type": "code",
   "execution_count": 5,
   "id": "656eca1c-9061-4ed6-b04c-099082365b3e",
   "metadata": {},
   "outputs": [
    {
     "name": "stdout",
     "output_type": "stream",
     "text": [
      "P(Survived|SecondClass) is 0.47282608695652173\n"
     ]
    }
   ],
   "source": [
    "secondclass = train[train.Pclass.eq(2)]\n",
    "\n",
    "prob_survival_secondclass = len(secondclass[secondclass.Survived.eq(1)]) / len(secondclass)\n",
    "print(f'P(Survived|SecondClass) is {prob_survival_secondclass}')"
   ]
  },
  {
   "cell_type": "markdown",
   "id": "d7e25fde-cc3f-4db5-b0d0-cf657a820477",
   "metadata": {},
   "source": [
    "How likely a female passenger survives"
   ]
  },
  {
   "cell_type": "code",
   "execution_count": 6,
   "id": "c8b26356-1bd3-43ae-a1dd-ef9ed4881d67",
   "metadata": {},
   "outputs": [
    {
     "name": "stdout",
     "output_type": "stream",
     "text": [
      "P(Survived|Female) is 0.7420382165605095\n"
     ]
    }
   ],
   "source": [
    "females = train[train.Sex.eq(\"female\")]\n",
    "prob_survival_female = len(females[females.Survived.eq(1)]) / len(females)\n",
    "print(f'P(Survived|Female) is {prob_survival_female}')"
   ]
  },
  {
   "cell_type": "markdown",
   "id": "7f513f3c-4952-4708-8f40-d53823cba716",
   "metadata": {},
   "source": [
    "Second class female "
   ]
  },
  {
   "cell_type": "code",
   "execution_count": 7,
   "id": "be03cc04-528b-4ead-8cd4-0ea1227da189",
   "metadata": {},
   "outputs": [
    {
     "name": "stdout",
     "output_type": "stream",
     "text": [
      "P(Survived|SecondClass, Female) is 0.9210526315789473\n"
     ]
    }
   ],
   "source": [
    "secondclass_female = secondclass[secondclass.Sex.eq(\"female\")]\n",
    "prob_survival_secondclass_female = len(secondclass_female[secondclass_female.Survived.eq(1)]) / len(secondclass_female)\n",
    "print(f'P(Survived|SecondClass, Female) is {prob_survival_secondclass_female}')"
   ]
  },
  {
   "cell_type": "code",
   "execution_count": 8,
   "id": "b1812853-d1fd-4537-8040-ff3aa24285f6",
   "metadata": {},
   "outputs": [
    {
     "name": "stdout",
     "output_type": "stream",
     "text": [
      "There are 314 females in the dataset\n",
      "There are 184 second class passengers in the dataset\n",
      "There are 76 second class, female passengers in the dataset\n"
     ]
    }
   ],
   "source": [
    "print(f\"There are {len(females)} females in the dataset\")\n",
    "print(f\"There are {len(secondclass)} second class passengers in the dataset\")\n",
    "print(f\"There are {len(secondclass_female)} second class, female passengers in the dataset\")"
   ]
  },
  {
   "cell_type": "markdown",
   "id": "ab159710-13be-4197-809f-24186cd79bc5",
   "metadata": {},
   "source": [
    "Calculating posterior probability"
   ]
  },
  {
   "cell_type": "code",
   "execution_count": 15,
   "id": "5b38348f-c31a-4679-aad5-a36d06e1c418",
   "metadata": {},
   "outputs": [
    {
     "name": "stdout",
     "output_type": "stream",
     "text": [
      " The modifier of the second-class ticket is 1.2318363844393594 and the  informativeness is 0.2318363844393594\n",
      "The modifier for being female is 1.9332048273550118 and the informativeness is 0.9332048273550118\n"
     ]
    }
   ],
   "source": [
    "p_surv_seccl = len(survivors[survivors.Pclass.eq(2)]) / len(survivors)\n",
    "m_seccl = p_surv_seccl / (len(secondclass) / len(train))\n",
    "\n",
    "i_seccl = abs(m_seccl - 1)\n",
    "print(f\" The modifier of the second-class ticket is {m_seccl} and the  informativeness is {i_seccl}\")\n",
    "\n",
    "p_surv_female = len(survivors[survivors.Sex.eq(\"female\")]) / len(survivors)\n",
    "m_female = p_surv_female / (len(females) / len(train))\n",
    "i_female = abs(m_female - 1)\n",
    "\n",
    "print(f\"The modifier for being female is {m_female} and the informativeness is {i_female}\")\n",
    "\n",
    "      "
   ]
  },
  {
   "cell_type": "code",
   "execution_count": 16,
   "id": "a018b6df-b224-4290-b41b-a17d574428f4",
   "metadata": {},
   "outputs": [
    {
     "name": "stdout",
     "output_type": "stream",
     "text": [
      "P(Survived|SecondClass,Female) is 0.9140696738037284\n"
     ]
    }
   ],
   "source": [
    "posterior = m_seccl * m_female * prob_survival\n",
    "print(f\n",
    "\"P(Survived|SecondClass,Female) is {posterior}\")"
   ]
  }
 ],
 "metadata": {
  "kernelspec": {
   "display_name": "Python 3 (ipykernel)",
   "language": "python",
   "name": "python3"
  },
  "language_info": {
   "codemirror_mode": {
    "name": "ipython",
    "version": 3
   },
   "file_extension": ".py",
   "mimetype": "text/x-python",
   "name": "python",
   "nbconvert_exporter": "python",
   "pygments_lexer": "ipython3",
   "version": "3.8.19"
  }
 },
 "nbformat": 4,
 "nbformat_minor": 5
}
